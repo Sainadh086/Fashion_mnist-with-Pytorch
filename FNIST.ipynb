{
 "cells": [
  {
   "cell_type": "code",
   "execution_count": 1,
   "metadata": {},
   "outputs": [
    {
     "name": "stdout",
     "output_type": "stream",
     "text": [
      "Training on GPU\n"
     ]
    }
   ],
   "source": [
    "import numpy as np \n",
    "import torch.nn as nn\n",
    "import torch\n",
    "from torchvision.transforms import transforms\n",
    "from torchvision import datasets,models\n",
    "train_on_gpu = torch.cuda.is_available()\n",
    "if train_on_gpu:\n",
    "    print(\"Training on GPU\")\n",
    "else:\n",
    "    print(\"Training on CPU\")"
   ]
  },
  {
   "cell_type": "code",
   "execution_count": 2,
   "metadata": {},
   "outputs": [],
   "source": [
    "batch_size = 20\n",
    "transform = transforms.Compose([transforms.ToTensor(), \n",
    "                               transforms.Normalize((0.5,),(0.5,))])\n",
    "train_data = datasets.FashionMNIST(root = 'data_FNIST',download = True,train = True,\n",
    "                           transform =transform)\n",
    "test_data = datasets.FashionMNIST(root = 'data_FNIST', download = False,train = False,\n",
    "                          transform = transform)"
   ]
  },
  {
   "cell_type": "code",
   "execution_count": 3,
   "metadata": {},
   "outputs": [],
   "source": [
    "from torch.utils.data.sampler import SubsetRandomSampler as SRS\n",
    "valid_size = 0.2\n",
    "num_train = len(train_data)\n",
    "indices  = list(range(num_train))\n",
    "np.random.shuffle(indices)\n",
    "split = int(np.floor(valid_size*num_train))\n",
    "train_index,valid_index = indices[split:],indices[:split]\n",
    "\n",
    "train_sample = SRS(train_index)\n",
    "valid_sample = SRS(valid_index)\n",
    "\n",
    "train_loader = torch.utils.data.DataLoader(train_data,batch_size = batch_size, sampler = train_sample)\n",
    "valid_loader = torch.utils.data.DataLoader(train_data,batch_size = batch_size, sampler = valid_sample)\n",
    "test_loader = torch.utils.data.DataLoader(test_data,batch_size = batch_size)"
   ]
  },
  {
   "cell_type": "code",
   "execution_count": 4,
   "metadata": {},
   "outputs": [],
   "source": [
    "classes = ['T-shirt',\n",
    "           'Trouser',\n",
    "            'Pullover',\n",
    "            'Dress',\n",
    "            'Coat',\n",
    "            'Sandal',\n",
    "            'Shirt',\n",
    "            'Sneaker',\n",
    "            'Bag',\n",
    "            'Ankle Boot']"
   ]
  },
  {
   "cell_type": "code",
   "execution_count": 5,
   "metadata": {},
   "outputs": [
    {
     "data": {
      "image/png": "[encoded data removed]",
      "text/plain": [
       "<Figure size 1800x288 with 10 Axes>"
      ]
     },
     "metadata": {},
     "output_type": "display_data"
    }
   ],
   "source": [
    "import matplotlib.pyplot as plt\n",
    "%matplotlib inline\n",
    "df = next(iter(train_loader))\n",
    "images,labels = df\n",
    "fig = plt.figure(figsize=(25,4))\n",
    "for i in range(10):\n",
    "    ax = fig.add_subplot(2,5,i+1,xticks = [], yticks = [])\n",
    "    ax.imshow(np.squeeze(images[i][0]),cmap='gray')\n",
    "    ax.set_title(classes[labels[i]])"
   ]
  },
  {
   "cell_type": "code",
   "execution_count": 6,
   "metadata": {},
   "outputs": [
    {
     "data": {
      "text/plain": [
       "torch.Size([20, 1, 28, 28])"
      ]
     },
     "execution_count": 6,
     "metadata": {},
     "output_type": "execute_result"
    }
   ],
   "source": [
    "images.shape"
   ]
  },
  {
   "cell_type": "code",
   "execution_count": 7,
   "metadata": {},
   "outputs": [
    {
     "name": "stdout",
     "output_type": "stream",
     "text": [
      "ConvNet(\n",
      "  (con1): Sequential(\n",
      "    (0): Conv2d(1, 32, kernel_size=(5, 5), stride=(1, 1), padding=(2, 2))\n",
      "    (1): ReLU()\n",
      "    (2): MaxPool2d(kernel_size=2, stride=2, padding=0, dilation=1, ceil_mode=False)\n",
      "  )\n",
      "  (con2): Sequential(\n",
      "    (0): Conv2d(32, 64, kernel_size=(5, 5), stride=(1, 1), padding=(2, 2))\n",
      "    (1): ReLU()\n",
      "    (2): MaxPool2d(kernel_size=2, stride=2, padding=0, dilation=1, ceil_mode=False)\n",
      "  )\n",
      "  (drop_out): Dropout(p=0.25)\n",
      "  (fc1): Linear(in_features=3136, out_features=1000, bias=True)\n",
      "  (fc2): Linear(in_features=1000, out_features=10, bias=True)\n",
      ")\n"
     ]
    },
    {
     "data": {
      "text/plain": [
       "ConvNet(\n",
       "  (con1): Sequential(\n",
       "    (0): Conv2d(1, 32, kernel_size=(5, 5), stride=(1, 1), padding=(2, 2))\n",
       "    (1): ReLU()\n",
       "    (2): MaxPool2d(kernel_size=2, stride=2, padding=0, dilation=1, ceil_mode=False)\n",
       "  )\n",
       "  (con2): Sequential(\n",
       "    (0): Conv2d(32, 64, kernel_size=(5, 5), stride=(1, 1), padding=(2, 2))\n",
       "    (1): ReLU()\n",
       "    (2): MaxPool2d(kernel_size=2, stride=2, padding=0, dilation=1, ceil_mode=False)\n",
       "  )\n",
       "  (drop_out): Dropout(p=0.25)\n",
       "  (fc1): Linear(in_features=3136, out_features=1000, bias=True)\n",
       "  (fc2): Linear(in_features=1000, out_features=10, bias=True)\n",
       ")"
      ]
     },
     "execution_count": 7,
     "metadata": {},
     "output_type": "execute_result"
    }
   ],
   "source": [
    "import torch.nn as nn\n",
    "class ConvNet(nn.Module):\n",
    "    def __init__(self):\n",
    "        super(ConvNet, self).__init__()\n",
    "        self.con1 = nn.Sequential(\n",
    "            nn.Conv2d(1, 32, kernel_size=5, stride=1, padding=2),\n",
    "            nn.ReLU(),\n",
    "            nn.MaxPool2d(kernel_size=2, stride=2))\n",
    "        self.con2 = nn.Sequential(\n",
    "            nn.Conv2d(32, 64, kernel_size=5, stride=1, padding=2),\n",
    "            nn.ReLU(),\n",
    "            nn.MaxPool2d(kernel_size=2, stride=2))\n",
    "        self.drop_out = nn.Dropout(p = 0.25)\n",
    "        self.fc1 = nn.Linear(7 * 7 * 64, 1000)\n",
    "        self.fc2 = nn.Linear(1000, 10)\n",
    "    def forward(self, x):\n",
    "        out = self.con1(x)\n",
    "        out = self.con2(out)\n",
    "        out = out.reshape(out.size(0), -1)\n",
    "        out = self.drop_out(out)\n",
    "        out = self.fc1(out)\n",
    "        out = self.fc2(out)\n",
    "        return out\n",
    "model=ConvNet()\n",
    "print(model)\n",
    "model.cuda()"
   ]
  },
  {
   "cell_type": "code",
   "execution_count": 8,
   "metadata": {},
   "outputs": [],
   "source": [
    "import torch.optim as optim\n",
    "criterion = nn.CrossEntropyLoss()\n",
    "optimizer = optim.SGD(model.parameters(), lr = 0.01 )"
   ]
  },
  {
   "cell_type": "code",
   "execution_count": 9,
   "metadata": {},
   "outputs": [
    {
     "name": "stdout",
     "output_type": "stream",
     "text": [
      "Epoch: 1 \tTraining Loss: 0.522929 \tValidation Loss: 0.088241\n",
      "Epoch: 2 \tTraining Loss: 0.336413 \tValidation Loss: 0.073625\n",
      "Epoch: 3 \tTraining Loss: 0.290872 \tValidation Loss: 0.065359\n",
      "Epoch: 4 \tTraining Loss: 0.267314 \tValidation Loss: 0.060635\n",
      "Epoch: 5 \tTraining Loss: 0.247724 \tValidation Loss: 0.057742\n",
      "Epoch: 6 \tTraining Loss: 0.231102 \tValidation Loss: 0.055995\n",
      "Epoch: 7 \tTraining Loss: 0.221783 \tValidation Loss: 0.053170\n",
      "Epoch: 8 \tTraining Loss: 0.211489 \tValidation Loss: 0.051942\n",
      "Epoch: 9 \tTraining Loss: 0.202344 \tValidation Loss: 0.051476\n",
      "Epoch: 10 \tTraining Loss: 0.194792 \tValidation Loss: 0.049864\n",
      "Epoch: 11 \tTraining Loss: 0.187745 \tValidation Loss: 0.048257\n",
      "Epoch: 12 \tTraining Loss: 0.181984 \tValidation Loss: 0.048986\n",
      "Epoch: 13 \tTraining Loss: 0.177859 \tValidation Loss: 0.048842\n",
      "Epoch: 14 \tTraining Loss: 0.171232 \tValidation Loss: 0.047771\n",
      "Epoch: 15 \tTraining Loss: 0.166590 \tValidation Loss: 0.046251\n",
      "Epoch: 16 \tTraining Loss: 0.161733 \tValidation Loss: 0.044654\n",
      "Epoch: 17 \tTraining Loss: 0.157355 \tValidation Loss: 0.044774\n",
      "Epoch: 18 \tTraining Loss: 0.153827 \tValidation Loss: 0.044539\n",
      "Epoch: 19 \tTraining Loss: 0.148285 \tValidation Loss: 0.044875\n",
      "Epoch: 20 \tTraining Loss: 0.144507 \tValidation Loss: 0.048341\n"
     ]
    }
   ],
   "source": [
    "n_epochs = 20\n",
    "valid_loss_min = 0 \n",
    "for epoch in range(1, n_epochs+1):\n",
    "    train_loss = 0.0\n",
    "    valid_loss = 0.0\n",
    "    model.train()\n",
    "    for data, target in train_loader:\n",
    "        if train_on_gpu:\n",
    "            data,target = data.cuda(),target.cuda()\n",
    "        optimizer.zero_grad()\n",
    "        output = model(data)\n",
    "        loss = criterion(output, target)\n",
    "        loss.backward()\n",
    "        optimizer.step()\n",
    "        train_loss += loss.item()*data.size(0)\n",
    "    model.eval()\n",
    "    for data, target in valid_loader:\n",
    "        data,target = data.cuda(),target.cuda()\n",
    "        output = model(data)\n",
    "        loss = criterion(output, target)\n",
    "        valid_loss += loss.item()*data.size(0)\n",
    "    train_loss = train_loss/len(train_loader.dataset)\n",
    "    valid_loss = valid_loss/len(valid_loader.dataset) \n",
    "    print('Epoch: {} \\tTraining Loss: {:.6f} \\tValidation Loss: {:.6f}'.format(\n",
    "        epoch, train_loss, valid_loss))\n",
    "    if valid_loss <= valid_loss_min:\n",
    "        print('Validation loss decreased ({:.6f} --> {:.6f}).  Saving model ...'.format(\n",
    "        valid_loss_min,\n",
    "        valid_loss))\n",
    "        valid_loss_min = valid_loss"
   ]
  },
  {
   "cell_type": "code",
   "execution_count": 17,
   "metadata": {},
   "outputs": [
    {
     "name": "stdout",
     "output_type": "stream",
     "text": [
      "Accuracy of T-shirt : 90 %\n",
      "Accuracy of Trouser : 99 %\n",
      "Accuracy of Pullover : 93 %\n",
      "Accuracy of Dress : 90 %\n",
      "Accuracy of  Coat : 79 %\n",
      "Accuracy of Sandal : 98 %\n",
      "Accuracy of Shirt : 70 %\n",
      "Accuracy of Sneaker : 94 %\n",
      "Accuracy of   Bag : 97 %\n",
      "Accuracy of Ankle Boot : 98 %\n",
      "Overall accuaracy:  100.0\n"
     ]
    }
   ],
   "source": [
    "test_loss = 0.0\n",
    "class_correct = list(0. for i in range(10))\n",
    "class_total = list(0. for i in range(10))\n",
    "\n",
    "model.eval()\n",
    "for data, target in test_loader:\n",
    "    if train_on_gpu:\n",
    "        data,target = data.cuda(),target.cuda()\n",
    "    output = model(data)\n",
    "    loss = criterion(output, target)\n",
    "    test_loss += loss.item()*data.size(0)\n",
    "    _, pred = torch.max(output, 1)    \n",
    "    correct_tensor = pred.eq(target.data.view_as(pred))\n",
    "    correct = np.squeeze(correct_tensor.cpu().numpy())\n",
    "    for i in range(20):\n",
    "        label = pred.data[i]\n",
    "        class_correct[label] += correct[i].item()\n",
    "        class_total[label] += 1\n",
    "        #classes[label.cpu().numpy()]\n",
    "for i in range(10):\n",
    "    \n",
    "    print('Accuracy of %5s : %2d %%' % (\n",
    "        classes[i], 100 * class_correct[i] / class_total[i]))"
   ]
  },
  {
   "cell_type": "code",
   "execution_count": null,
   "metadata": {},
   "outputs": [],
   "source": []
  },
  {
   "cell_type": "code",
   "execution_count": null,
   "metadata": {},
   "outputs": [],
   "source": []
  }
 ],
 "metadata": {
  "kernelspec": {
   "display_name": "Python 3",
   "language": "python",
   "name": "python3"
  },
  "language_info": {
   "codemirror_mode": {
    "name": "ipython",
    "version": 3
   },
   "file_extension": ".py",
   "mimetype": "text/x-python",
   "name": "python",
   "nbconvert_exporter": "python",
   "pygments_lexer": "ipython3",
   "version": "3.6.9"
  }
 },
 "nbformat": 4,
 "nbformat_minor": 2
}
